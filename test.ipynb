{
 "cells": [
  {
   "cell_type": "code",
   "execution_count": 6,
   "metadata": {},
   "outputs": [],
   "source": [
    "from nanodo.model_factory import *\n",
    "from nanodo.data import *\n",
    "from nanodo.configs.default import *\n",
    "from nanodo.train import *\n",
    "import numpy as np\n",
    "import orbax.checkpoint as ocp\n",
    "from orbax.checkpoint import PyTreeCheckpointer\n",
    "from nanodo import data_custom\n",
    "from flax.core import unfreeze\n",
    "import jax.numpy as jnp\n",
    "from nanodo.model import *\n",
    "from flax.linen import Partitioned"
   ]
  },
  {
   "cell_type": "code",
   "execution_count": 2,
   "metadata": {},
   "outputs": [
    {
     "name": "stderr",
     "output_type": "stream",
     "text": [
      "/home/allanz/miniconda3/envs/nanodo/lib/python3.11/site-packages/orbax/checkpoint/_src/serialization/type_handlers.py:1250: UserWarning: Couldn't find sharding info under RestoreArgs. Populating sharding info from sharding file. Please note restoration time will be slightly increased due to reading from file instead of directly from RestoreArgs. Note also that this option is unsafe when restoring on a different topology than the checkpoint was saved with.\n",
      "  warnings.warn(\n"
     ]
    }
   ],
   "source": [
    "c = get_config()\n",
    "#checkpoint = \"/home/allanz/nanodo_workdir/92000.orbax-checkpoint-tmp-138\"\n",
    "checkpoint = \"/home/allanz/nanodo_workdir/86000/state\"\n",
    "params= PyTreeCheckpointer().restore(checkpoint)\n",
    "params = params['params']"
   ]
  },
  {
   "cell_type": "code",
   "execution_count": 3,
   "metadata": {},
   "outputs": [],
   "source": [
    "test_config = ml_collections.config_dict.create(\n",
    "      D=512,  # model/embed dim  = qkv dim\n",
    "      F=2048,  # FF inner dimension\n",
    "      H=8,  # num attention heads\n",
    "      L=128,  # max context/sequence length (move out of config?)\n",
    "      N=6,  # number of transformer block layers\n",
    "      dtype=\"float32\",  # computation dtype.\n",
    "      fsdp_enabled=True,  # True to shard the model.\n",
    "      remat=False,  # Transformer block gradient checkpointing to save memory.\n",
    "  )\n"
   ]
  },
  {
   "cell_type": "code",
   "execution_count": 4,
   "metadata": {},
   "outputs": [
    {
     "name": "stdout",
     "output_type": "stream",
     "text": [
      "TransformerDo(\n",
      "    # attributes\n",
      "    docfg = DoConfig(D=512, H=8, L=128, N=6, V=32101, F=2048, kernel_init=<function variance_scaling.<locals>.init at 0x7f1f467d87c0>, embed_init=<function variance_scaling.<locals>.init at 0x7f1f467d8900>, dtype='float32', fsdp_enabled=True, remat=False)\n",
      ")\n",
      "TransformerDo(\n",
      "    # attributes\n",
      "    docfg = DoConfig(D=512, H=8, L=128, N=6, V=32101, F=2048, kernel_init=<function variance_scaling.<locals>.init at 0x7f1f467d87c0>, embed_init=<function variance_scaling.<locals>.init at 0x7f1f467d8900>, dtype='bfloat16', fsdp_enabled=True, remat=False)\n",
      ")\n",
      "TransformerDo(\n",
      "    # attributes\n",
      "    docfg = DoConfig(D=512, H=8, L=128, N=6, V=32101, F=2048, kernel_init=<function variance_scaling.<locals>.init at 0x7f1f467d87c0>, embed_init=<function variance_scaling.<locals>.init at 0x7f1f467d8900>, dtype=<class 'jax.numpy.float32'>, fsdp_enabled=True, remat=False)\n",
      ")\n"
     ]
    }
   ],
   "source": [
    "tokenizer = get_py_tokenizer(\"tests/testdata/sentencepiece_cc_all.32000.100extra-sentencepiece.model\")\n",
    "vocab_size = tokenizer.GetPieceSize()\n",
    "cfg = DoConfig(**test_config, V=vocab_size)  # pytype:disable=attribute-error\n",
    "# model without float32\n",
    "float32 = TransformerDo(cfg) \n",
    "print(float32)\n",
    "# model with bfloat16\n",
    "bfloat16, _ = get_model_and_loss(c, vocab_size)\n",
    "print(bfloat16)\n",
    "# model with jax.numpy.float32\n",
    "jax_float32 = model.DoConfig(D=512, H=8, L=128, N=6, V=vocab_size, F=2048)\n",
    "m = model.TransformerDo(jax_float32)\n",
    "print(m)\n"
   ]
  },
  {
   "cell_type": "code",
   "execution_count": 47,
   "metadata": {},
   "outputs": [
    {
     "name": "stderr",
     "output_type": "stream",
     "text": [
      "ERROR:absl:Applying deprecated PyGrain MapOperation. Please use the grain.python.MapTransform.\n",
      "ERROR:absl:Applying deprecated PyGrain MapOperation. Please use the grain.python.MapTransform.\n"
     ]
    }
   ],
   "source": [
    "train_set = py_batched_tfds(\n",
    "          tfds_name=\"c4\",\n",
    "          split=\"train\",\n",
    "          context_size=128,\n",
    "          worker_count=0,\n",
    "          vocab_path=\"tests/testdata/sentencepiece_cc_all.32000.100extra-sentencepiece.model\",\n",
    "          batch_size = 8\n",
    "          )\n",
    "batch = next(iter(train_set))\n",
    "\n",
    "tf_set = data_custom.py_batched_tfds(\n",
    "          tfds_name=\"lm1b\",\n",
    "          split=\"train\",\n",
    "          context_size=128,\n",
    "          worker_count=0,\n",
    "          vocab_path=\"tests/testdata/sentencepiece_cc_all.32000.100extra-sentencepiece.model\",\n",
    "          batch_size = 8\n",
    "          )\n",
    "test_batch = next(iter(tf_set))"
   ]
  },
  {
   "cell_type": "code",
   "execution_count": 7,
   "metadata": {},
   "outputs": [],
   "source": [
    "def make_partitioned(array, names):\n",
    "    partition_array = Partitioned(array, names = names, mesh = None)\n",
    "    return partition_array\n",
    "\n",
    "def convert_attn_blocks(params):\n",
    "    blocks = [\"blocks_0\", \"blocks_1\", \"blocks_2\", \"blocks_3\", \"blocks_4\", \"blocks_5\"]\n",
    "    switches = {\"attn_out_proj\": (None, None, 'data'), \"key\": ('data', None), \"query\":('data', None), \"value\":('data', None)}\n",
    "\n",
    "    for block in blocks:\n",
    "          for switch in switches: \n",
    "               #print(params[block][\"CausalAttn_0\"][switch][\"kernel\"])\n",
    "               params[block][\"CausalAttn_0\"][switch][\"kernel\"] = make_partitioned(params[block][\"CausalAttn_0\"][switch][\"kernel\"][\"value\"], switches[switch])\n",
    "\n",
    "def convert_Mlp(params):\n",
    "    blocks = [\"blocks_0\", \"blocks_1\", \"blocks_2\", \"blocks_3\", \"blocks_4\", \"blocks_5\"]\n",
    "    switches = {\"Dense_0\": ('data', None), \"Dense_1\": ('data', None)}\n",
    "\n",
    "    for block in blocks:\n",
    "          for switch in switches: \n",
    "               #print(params[block][\"Mlp_0\"][switch][\"kernel\"])\n",
    "               params[block][\"Mlp_0\"][switch][\"kernel\"] = make_partitioned(params[block][\"Mlp_0\"][switch][\"kernel\"][\"value\"], switches[switch])\n",
    "\n",
    "\n",
    "def convert_embed(params):\n",
    "    params[\"embed\"][\"embedding\"] = make_partitioned(params[\"embed\"][\"embedding\"][\"value\"], (None, 'data'))\n",
    "\n",
    "def convert_pos_embed(params):\n",
    "    params[\"pos_embed\"][\"embedding\"] = make_partitioned(params[\"pos_embed\"][\"embedding\"][\"value\"], (None, 'data'))\n"
   ]
  },
  {
   "cell_type": "code",
   "execution_count": 8,
   "metadata": {},
   "outputs": [],
   "source": [
    "convert_attn_blocks(params)\n",
    "convert_Mlp(params)\n",
    "convert_embed(params)\n",
    "convert_pos_embed(params)"
   ]
  },
  {
   "cell_type": "code",
   "execution_count": 48,
   "metadata": {},
   "outputs": [
    {
     "name": "stdout",
     "output_type": "stream",
     "text": [
      "[[    2    97   635 ...  7718 16837    92]\n",
      " [ 9425  6921 18822 ...   707     6   142]\n",
      " [    4    10   311 ...   249  2273    12]\n",
      " ...\n",
      " [ 2764  4189    13 ...    10  1026   775]\n",
      " [    6    97   197 ...    38   512   775]\n",
      " [   14     9   940 ...     8  5769    12]] (8, 128) \n",
      "\n",
      "[[    2   217   244 ...  3630    13  1823]\n",
      " [  662    10  6416 ...  1535    16 10205]\n",
      " [ 3962     4     7 ...   168  3363  1439]\n",
      " ...\n",
      " [  176   379     4 ...    19  7394    19]\n",
      " [ 1491   109  7429 ...  6218 11613    27]\n",
      " [    4     6     1 ...  2858  1105    31]] (8, 128)\n"
     ]
    }
   ],
   "source": [
    "print(batch, batch.shape, '\\n')\n",
    "print(test_batch, test_batch.shape)"
   ]
  },
  {
   "cell_type": "code",
   "execution_count": 50,
   "metadata": {},
   "outputs": [
    {
     "name": "stdout",
     "output_type": "stream",
     "text": [
      "(8, 128, 32101)\n"
     ]
    }
   ],
   "source": [
    "logits = float32.apply({\"params\":params}, batch)\n",
    "print(logits.shape)"
   ]
  },
  {
   "cell_type": "code",
   "execution_count": 49,
   "metadata": {},
   "outputs": [
    {
     "name": "stdout",
     "output_type": "stream",
     "text": [
      "\"The Perfect Personality For Your Special Occasion\" DJ Diana M, Presenter and Event Hostess, is the ideal personality for the more discerning and sophisticated venue seeking someone who is more than just a mere DJ. Woth her huge selection of music covering most genres from the last 80 years she has something for everyone and for any occasion! Required by many venues, DJ Diana DJ has a current PLI policy with AMP DJ in the amount of £10 million. Also required by many venues, DJ Diana DJ has not provided satisfactory evidence of having current PAT records available. A Method Statement out \n",
      "\n",
      "lining DJ Diana DJ&apos;s Health & Safety procedure for setting up disco equipment has been provided. Why do people choose to book DJ Diana DJ? I must admit the price was probably one of the first deciding factors and after speaking briefly to them, I have a good feeling about booking them. sensible price, but more importantly very professional and straight forward to deal with over the phone, and by email. Keen to provide the type of music we require. \"Excellent, DJ Diana played all the music I liked as requested and asked for 12 songs that I would like to hear on the night. had \n",
      "\n",
      "a really good night thank you. \" \"Thank you, it is great to get feeback like this,,, we enjoyed the gig as well\" \"They gauged the event very well and accommodated everything I had asked for and incorporated. A great evening was had by all.\" \"A brillint evening in a lovely hall, great crowd,,,, and fabulous food!\" \"excellent communication leading up to the event and very helpful. Not interactive but kept the music going nicely, though would have preferred more frequent change of tracks by playing extracts rather than full songs.\" \"A great evening and \n",
      "\n",
      "a lovely hall\" \"Our silver wedding party was a great success, Diana's sound equipment was excellent. The evening was a huge success with many compliments. In fact our village hall committee is contacting Diana to arrange a village disco evening.\" \"Thst is lovely,,, look forward to hearing from them soon!\" \"Diana and Paula were absolutely lovely and they did a fantastic job. I would definitely recommend them to friends/family. Their introductory email was welcoming and I didn't bother to look any further. They were the first to contact me and I am more than \n",
      "\n",
      "happy I booked them. Keep up the good work! \" \"Thank ypu. we had a great evemong too\" \"We had an absolutely fantastic evening and DJ Diana and Paula contributed to this. There wasn't one person who didn't comment on how good the music was on leaving the event and after, I couldn't fault them. They asked for choices before hand and I provided a list of artists, era and music and they did the rest. Their interpretation of my request was excellent. They were both friendly and keen to please and ensure the evening went well. A big \n",
      "\n",
      "thankyou to both of them for helping to make the evening so memorable. Maureen\" \"Thank ypu. we had a great evemong too. once we found the right club!!!\" If you are contacting DJ Diana DJ about an event, it's always a good idea to include the DATE, LOCATION, EVENT TYPE, AGE GROUP and TIMINGS to speed things up! Oct. 10 (UPI) -- Jason Bateman announced on Twitter Wednesday that Netflix has renewed his crime drama Ozark for a third season \n",
      "\n",
      ". \"I'm happy for me, but concerned for Marty - it's official Ozark 3 is on its way,\" Bateman said in reference to his character on the series, alongside an image of the number three. Netflix also confirmed the renewal on Twitter. Ozark, which also stars Laura Linney along with Sofia Hublitz, Skylar Gaertner, Julia Garner, Jason Butler Harner, Peter Mullan, and Lisa Emery, follows Bateman's Marty as a financial adviser and money launderer who works for a drug cartel. The second season \n",
      "\n",
      "of the series debuted on Aug. 31. Ozark received three Emmy nominations, including Outstanding Lead Actor in a Drama Series for Bateman and Outstanding Directing for a Drama Series. I think my intro came like most: seeing and enjoying mainstream movies. In particular Saturday matinees at the 10-plex in Paramus, New Jersey where I became interested in the fact that in each one of those rooms something different was happening while I was seeing films like Dennis The Menace and Groundhog’s Day. I developed a little more adventurous taste around middle school thanks to Siskel and \n",
      "\n"
     ]
    }
   ],
   "source": [
    "# input\n",
    "for x in batch:\n",
    "    print(tokenizer.decode_ids(x.tolist()), \"\\n\")\n"
   ]
  },
  {
   "cell_type": "code",
   "execution_count": 51,
   "metadata": {},
   "outputs": [
    {
     "name": "stdout",
     "output_type": "stream",
     "text": [
      "TheI  Placeity\" You Personal Needpinionsion\"s . ing of DJ Managersss,   first venue for  event thandiscerning and  DJ. to who is   just a  . Sheon musicly of DJ,  ofs, classic classic decades, has  for everyone.  all occasion. for the of, the Diana M Diana a wide record& and for a ands the UK of £0,00., is the venues, DJ Diana DJ has  only any service of the  PLIs.. DJ for of  \n",
      "\n",
      ",s and,apos;s  and& Fitness.. the up ss. been developed by The is I have to use & DJ& DJs say, fact of very the of the most things& factors in I all with about the about I was toa feeling feeling that the DJ. I and. but I importantly, good service friendly forward. the with the  phone. and they the. Ien to get you best of service that need. IIcellent service professional Diana DJ  of instruments and needed and . was for. hours. I wanted like to have. my CD. He  \n",
      "\n",
      "a  nice idea’ you. III you for thank was  to have  fors . and and, are the night. well. \"I ared the  well well and wered the. needed to for. theylistened the The great night and  by all. \"Is't to'y was thea great venue, and atmosphere, great,,,  music. \"I service, to to the gig. the good staff The only, very up audience interesting.. and. be been  of . music. the withs from than  tracks. \"I  evening, very \n",
      "\n",
      "a ,. andI   dress was a great success. and ands wedding was was excellent and We venue was a great success, the peoples and We the, wedding was was was verya us to confirm a visit hallo for. \"Weotitch , the,, at to the from you again. \"Wei' I were are very wonderful. the were a great job. They would recommend recommend them to anyone andfamily.\" I weddingring speeches was very and they was't have to send into further. I were very best to offer us. I was so thanked \n",
      "\n",
      "to’ . I up the good work. III youua  I are a great times-.a.. \"Thank had  amazing wonderful time. we' was I were were to the wonderful We was't much thing that was't really on the much they music was. the the house. the  we was't help them. The were us  and theing they was a good of the to andas time. they were  best. The music was the music was very and I were very very and professional to help everyone I that event was well. The great thanks \n",
      "\n",
      "you for all of you for their me make this event  special. Ireen and \"I youa' . are a great timesm.a.. Thank again had out place place,\" \" you are lookinga uss,, your event, please iss important a good idea to ask  namej  ATEATION, andX,&PE, and&,ROUP, OTHERES.. the up up. The. 30, TD)  The Mceman, his Thursday that that ' been its streaming-,arks thea new season. \n",
      "\n",
      "TheItm not to the to but I about they.& I's ..s\"  the way to t said said.  to the new. the show' \" his  of the  of character \"' announced that new of the, \"ark 3  is has the and,, with her,bar, islerar,rlandt, and and Robertner, and ,p, and Parkeren, and Michael Mcerson, is theeman's charactery on shehe  adviser. makerder. is with thea company companyl. \" company- is \n",
      "\n",
      "the ,buted in the. 1,. Theils  awardsmy Awardss for including  Act Actor, thea Drama Series, theonsville, Best Acte in a Drama Series for The The have I favorite is out  of I the hearing the culture. I fact, nightees, the minute. thed.  York. I was  in the  that I the episode of the shows I was was happening. I was there the. The andr and, Thehog Days Tale. I was a sense bit interest and in the-, to theds’ I \n",
      "\n"
     ]
    }
   ],
   "source": [
    "# output of the model??? \n",
    "probs = jax.nn.softmax(logits, axis=-1)\n",
    "token_ids = jnp.argmax(probs, axis=-1) \n",
    "\n",
    "for x in token_ids:\n",
    "    print(tokenizer.decode_ids(x.tolist()), \"\\n\")"
   ]
  },
  {
   "cell_type": "code",
   "execution_count": 29,
   "metadata": {},
   "outputs": [
    {
     "name": "stdout",
     "output_type": "stream",
     "text": [
      "He said Epperson told Edgewood High School administrators that the students -- all cheerleaders at the school north of Cincinnati in Trenton -- asked her to take them to the bar in February . The Fighting Irish rank 110th among the 120 major college teams . Brilliance Auto was the first Chinese automaker to set up shop in the United Kingdom , initially offering the midsize BS6 sedan and most recently adding the compact BS4 . The charity has called on the government 's Missing Persons Taskforce to ensure its forthcoming action plan includes effective measures to protect \n",
      "\n",
      "runaways from pimps . That 's the message U.S. Education Secretary Arne Duncan delivered to a California audience this summer . It is the telephone and obligations that make people tense . During the Olympic team 's practice at Stanford on Saturday , the rhythmic slap , slap , slap of swimmers slicing through the water was mixed with peals of laughter . In 1956 , he moved to St. Louis , where he met Anna Mae Bull \n",
      "\n",
      "ock , whom Ike recast as Tina Turner . \" It 's not quite time yet , \" he told Sen. Richard Shelby of Alabama , the top Republican on the committee . Dave believed for years that this was \" gunning down the old man with a transistor radio . \" Now the organization led by daughter Elisabeth Omilami and husband Afemo Omilami , has grown to become Hosea Feed the Hungry and Homeless , one of the region 's most vital resources \n",
      "\n",
      "that provides daily food and financial assistance to thousands of citizens who make up much of the South 's Working Poor and Homeless population . The Institute of International Finance ( IIF ) , a think-tank in Washington , DC , forecast that net private capital flows into poor countries in 2009 would be 72 % lower than at their peak in 2007 , an unprecedented shrinkage . Don 't hate ... join a missionary to Africa , Paul . Though Jackson and Marvel ultimately came to terms , Howard was not so lucky . \n",
      "\n",
      "Some Asian-American leaders have cautioned against the \" model minority \" image , noting that the community is diverse and some of its members are struggling . Foreign governments are seeking to pressure Micheletti into reinstating Zelaya , who came back to Honduras in September and took refuge in the Brazilian embassy . Executive compensation poses a delicate political issue for the Obama administration . \" In order to be intimate with someone , you have to be well rested , have good energy and be in a good mood , and sleep determines all of \n",
      "\n",
      "these things , \" she said . Mark Hendrickson ( 1-0 ) got the win by allowing one run on six hits over 5 1 / 3 innings . Calin Popescu Tariceanu , the Romanian Prime Minister , said : \" The right to free movement in Europe is one of the main pillars of European society . \" Emery wouldn 't say whether McNamee did inject Clemens with lidocaine and B-12 . She took the car while her father was visiting her 19-month- \n",
      "\n",
      "old sibling at a hospital . I thought it was going to be a story about sex between old people . The plight of the Jewish people attracted international sympathy , and less than a year later , the independent state of Israel came into being . Construction and service companies are also coming , mostly from neighbouring countries and Asia . Grampian Police said the road had been closed . He also said Plymouth residents were right to be concerned . At that moment , Fritschner 's legs collapsed \n",
      "\n",
      ". Also on hand was a team from the American Sailing Association , which certified his accomplishment . He said that the Entente Cordiale was now better described as the Entente Amicale because the countries had not fought for so long . Prior to that , the RBC Center in Raleigh will be one of the sites for first- and second-round games of the NCAA Tournament . Those who have visited The Triangle understand that commute . The Government has backed away in the face of speculation that it will impose a windfall tax on \n",
      "\n"
     ]
    }
   ],
   "source": [
    "# input\n",
    "for x in test_batch:\n",
    "    print(tokenizer.decode_ids(x.tolist()), \"\\n\")\n"
   ]
  },
  {
   "cell_type": "code",
   "execution_count": 30,
   "metadata": {},
   "outputs": [
    {
     "name": "stdout",
     "output_type": "stream",
     "text": [
      "(8, 128, 32101)\n",
      "The was thathe was thewater that School that that  school were who ofleaders -- the school -- of the -- theon -- were the to be the to the school. the.if \" The  Irishman inth in the topth league football inranked The Theilliance is Repair founded first of manufacturermaker to be up  in China country States.. and in  - sedan,- s the recently the the  BS6 sedanX The The  is been for the government toas ing's' Force' be that independence  on is  measures to ensure the \n",
      "\n",
      ".ways. theggying and&  The’as not  I.S. President Secretary,ne Duncan has to thea meeting school in week.-  The’  first number the of are us aam and.  The ⁇  the last Games,,The , the University the,, the team of tempoas. thealap , slap  thes ,lapked  the    with thee   , The The the,, thea was to the. Louis,, Missouri he was his ande anda \n",
      "\n",
      "s&  I have ,signed the a  ,  TheI'ss   the to to- but I. said me. John Nixon, the that, who state- in the floor., \" The and in the that  was thethe controle down the  ' a gun\"\",  I The you  is by the ofjaabeth isania has her ofyseiailami is. who been to be thea'ding Worldedgearian. theless..  of the most'ss most important and of \n",
      "\n",
      "you  life and drinks support to those of people. are  the of the country American&sil Group' theless..- The The  for  Studies (IFC)) isaims a leading tanktank organisation the,, is , ands the income investment of will theer. the and be .% of than the the peak. 2010. .  increase increaseing of. The The’ ⁇ t forget''  the... group to group help..  ,  Thet has the have have to the with, the and   much to,  \n",
      "\n",
      "The of countriesAmericans have ed that the uses\"\",\"- which the that the majority is  and diverse of the members are not to.  The Minister have  to  thein to for theusa’'  has to from theduras to the. has over in the  capitalembassy in. The The Director is a significant challenge challenge. the country administration..  TheI the to be  with the whowhose  must to be  informedd and.   communication and have  a good position.. and be wells the the your \n",
      "\n",
      ".– andI said.,  The andnricks,born ⁇ ))   ball in a  of to the hits. the innings ⁇ inning 5 innings.. Mark Theiity,a, (-  formern  Minister of, was thehe \"I Romania of vote speech of the is  of the most reasonspillars of the democracy., TheWe Thepower ’ ⁇ t be  Ke would or .msa ocaine or - .  The was the  to  husband was in the homethyear-year \n",
      "\n",
      ",r, thea young inhe  The have I was  to be a good of aais the and and.  The Xs of the  people in the  attention and. and the than a year later,, the  Jewish of Israel  to being..  The of construction of in   to,  in theing countries. .. The Theos has that  to been  for,  The was said that is were  to be safe aboutif  The the time,, thes wass&s  ared. \n",
      "\n",
      "a  The, the is a  of the University Instituteailing Association (-  was the teamsbased  The was that the rancees was was   than as  \"ente ofpe. it  of  beena for the long..  The to the,he I & was was the, be closed of the most of the-year second-year selection. the  Tournament.. The. who are played the University will that ther.  The  of a the from the past of the that the will bere a newfall on on the \n",
      "\n"
     ]
    }
   ],
   "source": [
    "# output of the model??? \n",
    "logits = float32.apply({\"params\":params}, test_batch)\n",
    "print(logits.shape)\n",
    "probs = jax.nn.softmax(logits, axis=-1)\n",
    "token_ids = jnp.argmax(probs, axis=-1) \n",
    "\n",
    "for x in token_ids:\n",
    "    print(tokenizer.decode_ids(x.tolist()), \"\\n\")"
   ]
  },
  {
   "cell_type": "code",
   "execution_count": 32,
   "metadata": {},
   "outputs": [],
   "source": [
    "from datasets import load_dataset\n",
    "\n",
    "testing = load_dataset(\"stas/c4-en-10k\")"
   ]
  }
 ],
 "metadata": {
  "kernelspec": {
   "display_name": "nanodo",
   "language": "python",
   "name": "python3"
  },
  "language_info": {
   "codemirror_mode": {
    "name": "ipython",
    "version": 3
   },
   "file_extension": ".py",
   "mimetype": "text/x-python",
   "name": "python",
   "nbconvert_exporter": "python",
   "pygments_lexer": "ipython3",
   "version": "3.11.11"
  }
 },
 "nbformat": 4,
 "nbformat_minor": 2
}
