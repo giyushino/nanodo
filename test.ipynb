{
 "cells": [
  {
   "cell_type": "code",
   "execution_count": 9,
   "metadata": {},
   "outputs": [],
   "source": [
    "#conda_env: nanodo\n",
    "from nanodo.model_factory import *\n",
    "from nanodo.data import *\n",
    "from nanodo.configs.default import *\n",
    "from nanodo.params import *\n",
    "from nanodo.train import *\n",
    "import numpy as np\n",
    "import orbax.checkpoint as ocp\n",
    "from orbax.checkpoint import PyTreeCheckpointer\n",
    "from flax.core import unfreeze\n",
    "import jax.numpy as jnp"
   ]
  },
  {
   "cell_type": "code",
   "execution_count": 28,
   "metadata": {},
   "outputs": [
    {
     "name": "stdout",
     "output_type": "stream",
     "text": [
      "/home/allanz/nanodo_workdir/90000/state\n"
     ]
    },
    {
     "name": "stderr",
     "output_type": "stream",
     "text": [
      "/home/allanz/miniconda3/envs/nanodo/lib/python3.11/site-packages/orbax/checkpoint/_src/serialization/type_handlers.py:1250: UserWarning: Couldn't find sharding info under RestoreArgs. Populating sharding info from sharding file. Please note restoration time will be slightly increased due to reading from file instead of directly from RestoreArgs. Note also that this option is unsafe when restoring on a different topology than the checkpoint was saved with.\n",
      "  warnings.warn(\n"
     ]
    }
   ],
   "source": [
    "c = get_config()\n",
    "#checkpoint = \"/home/allanz/nanodo_workdir/92000.orbax-checkpoint-tmp-138\"\n",
    "checkpoint = \"/home/allanz/nanodo_workdir/90000/state\"\n",
    "print(checkpoint)\n",
    "\n",
    "params = PyTreeCheckpointer().restore(checkpoint)\n"
   ]
  }
 ],
 "metadata": {
  "kernelspec": {
   "display_name": "nanodo",
   "language": "python",
   "name": "python3"
  },
  "language_info": {
   "codemirror_mode": {
    "name": "ipython",
    "version": 3
   },
   "file_extension": ".py",
   "mimetype": "text/x-python",
   "name": "python",
   "nbconvert_exporter": "python",
   "pygments_lexer": "ipython3",
   "version": "3.11.11"
  }
 },
 "nbformat": 4,
 "nbformat_minor": 2
}
