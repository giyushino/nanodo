{
 "cells": [
  {
   "cell_type": "code",
   "execution_count": 6,
   "metadata": {},
   "outputs": [],
   "source": [
    "from nanodo.model_factory import *\n",
    "from nanodo.data import *\n",
    "from nanodo.configs.default import *\n",
    "from nanodo.train import *\n",
    "import numpy as np\n",
    "import orbax.checkpoint as ocp\n",
    "from orbax.checkpoint import PyTreeCheckpointer\n",
    "from nanodo import data_custom\n",
    "from flax.core import unfreeze\n",
    "import jax.numpy as jnp\n",
    "from nanodo.model import *\n",
    "from flax.linen import Partitioned"
   ]
  },
  {
   "cell_type": "code",
   "execution_count": 2,
   "metadata": {},
   "outputs": [
    {
     "name": "stderr",
     "output_type": "stream",
     "text": [
      "/home/allanz/miniconda3/envs/nanodo/lib/python3.11/site-packages/orbax/checkpoint/_src/serialization/type_handlers.py:1250: UserWarning: Couldn't find sharding info under RestoreArgs. Populating sharding info from sharding file. Please note restoration time will be slightly increased due to reading from file instead of directly from RestoreArgs. Note also that this option is unsafe when restoring on a different topology than the checkpoint was saved with.\n",
      "  warnings.warn(\n"
     ]
    }
   ],
   "source": [
    "c = get_config()\n",
    "#checkpoint = \"/home/allanz/nanodo_workdir/92000.orbax-checkpoint-tmp-138\"\n",
    "checkpoint = \"/home/allanz/nanodo_workdir/86000/state\"\n",
    "params= PyTreeCheckpointer().restore(checkpoint)\n",
    "params = params['params']"
   ]
  },
  {
   "cell_type": "code",
   "execution_count": 3,
   "metadata": {},
   "outputs": [],
   "source": [
    "test_config = ml_collections.config_dict.create(\n",
    "      D=512,  # model/embed dim  = qkv dim\n",
    "      F=2048,  # FF inner dimension\n",
    "      H=8,  # num attention heads\n",
    "      L=128,  # max context/sequence length (move out of config?)\n",
    "      N=6,  # number of transformer block layers\n",
    "      dtype=\"float32\",  # computation dtype.\n",
    "      fsdp_enabled=True,  # True to shard the model.\n",
    "      remat=False,  # Transformer block gradient checkpointing to save memory.\n",
    "  )\n"
   ]
  },
  {
   "cell_type": "code",
   "execution_count": 4,
   "metadata": {},
   "outputs": [
    {
     "name": "stdout",
     "output_type": "stream",
     "text": [
      "TransformerDo(\n",
      "    # attributes\n",
      "    docfg = DoConfig(D=512, H=8, L=128, N=6, V=32101, F=2048, kernel_init=<function variance_scaling.<locals>.init at 0x7f1f467d87c0>, embed_init=<function variance_scaling.<locals>.init at 0x7f1f467d8900>, dtype='float32', fsdp_enabled=True, remat=False)\n",
      ")\n",
      "TransformerDo(\n",
      "    # attributes\n",
      "    docfg = DoConfig(D=512, H=8, L=128, N=6, V=32101, F=2048, kernel_init=<function variance_scaling.<locals>.init at 0x7f1f467d87c0>, embed_init=<function variance_scaling.<locals>.init at 0x7f1f467d8900>, dtype='bfloat16', fsdp_enabled=True, remat=False)\n",
      ")\n",
      "TransformerDo(\n",
      "    # attributes\n",
      "    docfg = DoConfig(D=512, H=8, L=128, N=6, V=32101, F=2048, kernel_init=<function variance_scaling.<locals>.init at 0x7f1f467d87c0>, embed_init=<function variance_scaling.<locals>.init at 0x7f1f467d8900>, dtype=<class 'jax.numpy.float32'>, fsdp_enabled=True, remat=False)\n",
      ")\n"
     ]
    }
   ],
   "source": [
    "tokenizer = get_py_tokenizer(\"tests/testdata/sentencepiece_cc_all.32000.100extra-sentencepiece.model\")\n",
    "vocab_size = tokenizer.GetPieceSize()\n",
    "cfg = DoConfig(**test_config, V=vocab_size)  # pytype:disable=attribute-error\n",
    "# model without float32\n",
    "float32 = TransformerDo(cfg) \n",
    "print(float32)\n",
    "# model with bfloat16\n",
    "bfloat16, _ = get_model_and_loss(c, vocab_size)\n",
    "print(bfloat16)\n",
    "# model with jax.numpy.float32\n",
    "jax_float32 = model.DoConfig(D=512, H=8, L=128, N=6, V=vocab_size, F=2048)\n",
    "m = model.TransformerDo(jax_float32)\n",
    "print(m)\n"
   ]
  },
  {
   "cell_type": "code",
   "execution_count": 5,
   "metadata": {},
   "outputs": [
    {
     "name": "stderr",
     "output_type": "stream",
     "text": [
      "ERROR:absl:Applying deprecated PyGrain MapOperation. Please use the grain.python.MapTransform.\n",
      "ERROR:absl:Applying deprecated PyGrain MapOperation. Please use the grain.python.MapTransform.\n"
     ]
    }
   ],
   "source": [
    "train_set = py_batched_tfds(\n",
    "          tfds_name=\"c4_10k\",\n",
    "          split=\"train\",\n",
    "          context_size=128,\n",
    "          worker_count=0,\n",
    "          vocab_path=\"tests/testdata/sentencepiece_cc_all.32000.100extra-sentencepiece.model\",\n",
    "          batch_size = 8\n",
    "          )\n",
    "batch = next(iter(train_set))\n",
    "\n",
    "tf_set = data_custom.py_batched_tfds(\n",
    "          tfds_name=\"lm1b\",\n",
    "          split=\"train\",\n",
    "          context_size=128,\n",
    "          worker_count=0,\n",
    "          vocab_path=\"tests/testdata/sentencepiece_cc_all.32000.100extra-sentencepiece.model\",\n",
    "          batch_size = 8\n",
    "          )\n",
    "test_batch = next(iter(tf_set))"
   ]
  },
  {
   "cell_type": "code",
   "execution_count": 7,
   "metadata": {},
   "outputs": [],
   "source": [
    "def make_partitioned(array, names):\n",
    "    partition_array = Partitioned(array, names = names, mesh = None)\n",
    "    return partition_array\n",
    "\n",
    "def convert_attn_blocks(params):\n",
    "    blocks = [\"blocks_0\", \"blocks_1\", \"blocks_2\", \"blocks_3\", \"blocks_4\", \"blocks_5\"]\n",
    "    switches = {\"attn_out_proj\": (None, None, 'data'), \"key\": ('data', None), \"query\":('data', None), \"value\":('data', None)}\n",
    "\n",
    "    for block in blocks:\n",
    "          for switch in switches: \n",
    "               #print(params[block][\"CausalAttn_0\"][switch][\"kernel\"])\n",
    "               params[block][\"CausalAttn_0\"][switch][\"kernel\"] = make_partitioned(params[block][\"CausalAttn_0\"][switch][\"kernel\"][\"value\"], switches[switch])\n",
    "\n",
    "def convert_Mlp(params):\n",
    "    blocks = [\"blocks_0\", \"blocks_1\", \"blocks_2\", \"blocks_3\", \"blocks_4\", \"blocks_5\"]\n",
    "    switches = {\"Dense_0\": ('data', None), \"Dense_1\": ('data', None)}\n",
    "\n",
    "    for block in blocks:\n",
    "          for switch in switches: \n",
    "               #print(params[block][\"Mlp_0\"][switch][\"kernel\"])\n",
    "               params[block][\"Mlp_0\"][switch][\"kernel\"] = make_partitioned(params[block][\"Mlp_0\"][switch][\"kernel\"][\"value\"], switches[switch])\n",
    "\n",
    "\n",
    "def convert_embed(params):\n",
    "    params[\"embed\"][\"embedding\"] = make_partitioned(params[\"embed\"][\"embedding\"][\"value\"], (None, 'data'))\n",
    "\n",
    "def convert_pos_embed(params):\n",
    "    params[\"pos_embed\"][\"embedding\"] = make_partitioned(params[\"pos_embed\"][\"embedding\"][\"value\"], (None, 'data'))\n"
   ]
  },
  {
   "cell_type": "code",
   "execution_count": 8,
   "metadata": {},
   "outputs": [],
   "source": [
    "convert_attn_blocks(params)\n",
    "convert_Mlp(params)\n",
    "convert_embed(params)\n",
    "convert_pos_embed(params)"
   ]
  },
  {
   "cell_type": "code",
   "execution_count": 21,
   "metadata": {},
   "outputs": [
    {
     "name": "stdout",
     "output_type": "stream",
     "text": [
      "[[   2    4 2375 ...  228    4   10]\n",
      " [6196 9754   14 ... 4635    6 5441]\n",
      " [5406   34 8208 ...   12 2685  324]\n",
      " ...\n",
      " [   6 3886    4 ...    6 1290 1795]\n",
      " [  33    4   36 ...   36  124 5966]\n",
      " [  33    8   10 ... 1335 3705   42]] (8, 128) \n",
      "\n",
      "[[    2   217   244 ...  3630    13  1823]\n",
      " [  662    10  6416 ...  1535    16 10205]\n",
      " [ 3962     4     7 ...   168  3363  1439]\n",
      " ...\n",
      " [  176   379     4 ...    19  7394    19]\n",
      " [ 1491   109  7429 ...  6218 11613    27]\n",
      " [    4     6     1 ...  2858  1105    31]] (8, 128)\n"
     ]
    }
   ],
   "source": [
    "print(batch, batch.shape, '\\n')\n",
    "print(test_batch, test_batch.shape)"
   ]
  },
  {
   "cell_type": "code",
   "execution_count": 22,
   "metadata": {},
   "outputs": [
    {
     "name": "stdout",
     "output_type": "stream",
     "text": [
      "(8, 128, 32101)\n"
     ]
    }
   ],
   "source": [
    "logits = float32.apply({\"params\":params}, batch)\n",
    "print(logits.shape)"
   ]
  },
  {
   "cell_type": "code",
   "execution_count": 28,
   "metadata": {},
   "outputs": [
    {
     "name": "stdout",
     "output_type": "stream",
     "text": [
      "Whether you choose a fully bespoke pair of shoes, or choose something ready to wear, you can be assured that your shoes will be made by one person, Thomas Wandall, from beginning to end. They are made here at the workshop in Richmond, California, always of the finest quality materials, using the best techniques vetted by two thousand years of shoemakers (that is, traditional techniques with a few modern innovations). For fully bespoke shoes, you may choose from among several styles, leathers, toe designs, decorative details, and soles. Of course, the shoe is made after a \n",
      "\n",
      "careful measurement of your feet, a discussion about your fit and style preferences, and an assessment of your stance and gait. When Tom is not making custom shoes for specific individuals, he makes ready-to-wear shoes using the same quality materials and hand techniques. If there’s a display pair in the shop that you fancy, and if you are fortunate enough that they are in your size, you could walk out of the shop wearing your new favorite shoes. In addition to men’s-style dress shoes (for men or women), Tom also makes leather sandals in a variety of styles. Sand \n",
      "\n",
      "als are rarely made without a custom fitting, so there are generally no ready-to-wear sandals. make an appointment for a personal consultation. We’ve all heard the beeping sound large trucks make when backing up. The noise is meant to warn you the truck is there. But did you know that many cars now have that technology? Not only that, but more and more new vehicles are being built with a collision sensor for the front of vehicles as well as the back. In fact, a recent Star Tribune article says there are some cars with safety features that will sense trouble and slow down \n",
      "\n",
      "the car or stop it altogether. Lighten up. –Automakers have also created adaptive headlights, meaning the headlights in your car move in the direction the car is headed. This helps drivers see around corners. Vehicle safety has come a long way but accidents still happen. In the event you do suffer vehicle damage, let Great Plains Auto Body help you out, call (402) 334-7100. Garrapata macho en comparación con una cabeza de fósforo. Garrapata ingurgitada pe \n",
      "\n",
      "gada a la parte trasera de la cabeza de un ni ⁇ o. Se muestra el pulgar de un adulto como escala. Las garrapatas pueden encontrarse en la mayor ⁇ a de las zonas boscosas alrededor del mundo. Son muy comunes en áreas donde habitan cérvidos (ciervos) o en asentamientos humanos \n",
      "\n",
      ". Son especialmente abundantes en zonas aleda ⁇ as a fuentes de agua, donde animales bajan a beber, y en praderas donde los arbustos proveen protección. El parasitoide Ixodiphagus hookeri, una avispa de la familia Ichneumonidae ha sido ampliamente investigado por su potencial en el control de poblaciones de garrapatas. El mod \n",
      "\n",
      "o en el que act ⁇ a es com ⁇ n a todas las avispas Ichneumonidas, y consiste en poner los huevos en el interior del huésped, para que, cuando los huevos eclosionen, se alimenten del huésped, matándolo. Otra forma de control biológico es por medio de las aves de la familia Numididae, las cuales consumen cuanti \n",
      "\n",
      "osas cantidades de garrapatas. Tan solo dos aves pueden llegar a limpiar 8090 m2 en un a ⁇ o. Argasidae, que son las llamadas garrapatas blandas.  ⁇  «Q fever». Centers for Disease Control. Consultado el 7 de noviembre de 2010.  ⁇  Los Angeles County - Department of Health Services Vector Management Program. «Managing Common Tick Pests in Los Angeles County» ( \n",
      "\n"
     ]
    }
   ],
   "source": [
    "# input\n",
    "for x in batch:\n",
    "    print(tokenizer.decode_ids(x.tolist()), \"\\n\")\n"
   ]
  },
  {
   "cell_type": "code",
   "execution_count": 27,
   "metadata": {},
   "outputs": [
    {
     "name": "stdout",
     "output_type": "stream",
     "text": [
      "The ⁇  you’ toa -stocked design of shoes or or   that for wear, we’ be sure that you shoes will be the to the of. not.s. who the to end. are made of in the , the, Virginia. and ready the highest quality and. and only finest materials and&d by the of years of experiencemaking.and’, the,). a  exception techniques). The more bespoke shoes, you can choose   the different of or,, leatherness, or and, and morely. The course, you most is made from theale \n",
      "\n",
      "to of the . anda good of the feet and comfort,, and  overview of your footphysio. yourit. The you andn in the ortho, the occasions, he or -made-wear shoes for  same materials materials as materials-. Tom you iss a problem of that your store, you’, you youa you’n enough to you aren the shoes, you can be into of the shop to  shoes shoes pair. If addition to the’s shoesto shoes,,and example’ women), you also wear sure shoess for thea variety of colors. Ifs \n",
      "\n",
      ".  seen of a  made. but it is no no hiddenmademade-wear itemss. The sure effort to a custom trainer. The arere been been of termess of enough and for they up  The  of  to be you of ’ not. The the you know that the truck are have  noise? The only are, but the and more cars cars are being built. thea new warning. the safety wheel the. well. the front of The fact, thea lot study Trek article  that are more new that  features that are help the. help down the \n",
      "\n",
      ". truck by.. Thes the your TheUsing Thematic have  been  lightslights that which that driverlights are the car are the the right of car is going.  is to to the the and s is become a long way since the are happen. The fact past of are not from accidents, you us Lakes Auto Repair repair you out. and Great8003) 38-300. Therysa is-e s t     usc  aericat  rapata enlsa o s \n",
      "\n",
      ".eo,–   de  l vac laee ⁇ o    ⁇ s as ao  ae eno enaar   aaas edes en trar o en   a de   s.ss s  oso   do. Seoe   en els de aoen ⁇ ntoo   ⁇ es  en a saentos os  \n",
      "\n",
      "The of&ti: is e   xa os en e   a ⁇ ss de es  ⁇  agunn a e es   de  quicioness asgeciones   os  asooo a o a areci ⁇    deafaa . do ena cioneso   encia en el l con  eaas  a \n",
      "\n",
      "sa el  on enl eoa a d   o  fs. en den  ⁇   ss en el el eistoriad e    ero  vos ensses    l euésped, er o  ⁇    ques l sógicosenl  eos s ve ⁇  s eso s s and osands \n",
      "\n",
      "si,, beaes  ciaaas a s a edes enemas en ia   y ⁇  y ae os   oo       veeas rapatas as   ⁇   ⁇  ⁇  »  e for Disease Control and t withsasens   voembre del  ⁇   ,, ⁇   of Health..... A the Diseaseissuess. the Angeles County..A \n",
      "\n"
     ]
    }
   ],
   "source": [
    "# output of the model??? \n",
    "probs = jax.nn.softmax(logits, axis=-1)\n",
    "token_ids = jnp.argmax(probs, axis=-1) \n",
    "\n",
    "for x in token_ids:\n",
    "    print(tokenizer.decode_ids(x.tolist()), \"\\n\")"
   ]
  },
  {
   "cell_type": "code",
   "execution_count": 29,
   "metadata": {},
   "outputs": [
    {
     "name": "stdout",
     "output_type": "stream",
     "text": [
      "He said Epperson told Edgewood High School administrators that the students -- all cheerleaders at the school north of Cincinnati in Trenton -- asked her to take them to the bar in February . The Fighting Irish rank 110th among the 120 major college teams . Brilliance Auto was the first Chinese automaker to set up shop in the United Kingdom , initially offering the midsize BS6 sedan and most recently adding the compact BS4 . The charity has called on the government 's Missing Persons Taskforce to ensure its forthcoming action plan includes effective measures to protect \n",
      "\n",
      "runaways from pimps . That 's the message U.S. Education Secretary Arne Duncan delivered to a California audience this summer . It is the telephone and obligations that make people tense . During the Olympic team 's practice at Stanford on Saturday , the rhythmic slap , slap , slap of swimmers slicing through the water was mixed with peals of laughter . In 1956 , he moved to St. Louis , where he met Anna Mae Bull \n",
      "\n",
      "ock , whom Ike recast as Tina Turner . \" It 's not quite time yet , \" he told Sen. Richard Shelby of Alabama , the top Republican on the committee . Dave believed for years that this was \" gunning down the old man with a transistor radio . \" Now the organization led by daughter Elisabeth Omilami and husband Afemo Omilami , has grown to become Hosea Feed the Hungry and Homeless , one of the region 's most vital resources \n",
      "\n",
      "that provides daily food and financial assistance to thousands of citizens who make up much of the South 's Working Poor and Homeless population . The Institute of International Finance ( IIF ) , a think-tank in Washington , DC , forecast that net private capital flows into poor countries in 2009 would be 72 % lower than at their peak in 2007 , an unprecedented shrinkage . Don 't hate ... join a missionary to Africa , Paul . Though Jackson and Marvel ultimately came to terms , Howard was not so lucky . \n",
      "\n",
      "Some Asian-American leaders have cautioned against the \" model minority \" image , noting that the community is diverse and some of its members are struggling . Foreign governments are seeking to pressure Micheletti into reinstating Zelaya , who came back to Honduras in September and took refuge in the Brazilian embassy . Executive compensation poses a delicate political issue for the Obama administration . \" In order to be intimate with someone , you have to be well rested , have good energy and be in a good mood , and sleep determines all of \n",
      "\n",
      "these things , \" she said . Mark Hendrickson ( 1-0 ) got the win by allowing one run on six hits over 5 1 / 3 innings . Calin Popescu Tariceanu , the Romanian Prime Minister , said : \" The right to free movement in Europe is one of the main pillars of European society . \" Emery wouldn 't say whether McNamee did inject Clemens with lidocaine and B-12 . She took the car while her father was visiting her 19-month- \n",
      "\n",
      "old sibling at a hospital . I thought it was going to be a story about sex between old people . The plight of the Jewish people attracted international sympathy , and less than a year later , the independent state of Israel came into being . Construction and service companies are also coming , mostly from neighbouring countries and Asia . Grampian Police said the road had been closed . He also said Plymouth residents were right to be concerned . At that moment , Fritschner 's legs collapsed \n",
      "\n",
      ". Also on hand was a team from the American Sailing Association , which certified his accomplishment . He said that the Entente Cordiale was now better described as the Entente Amicale because the countries had not fought for so long . Prior to that , the RBC Center in Raleigh will be one of the sites for first- and second-round games of the NCAA Tournament . Those who have visited The Triangle understand that commute . The Government has backed away in the face of speculation that it will impose a windfall tax on \n",
      "\n"
     ]
    }
   ],
   "source": [
    "# input\n",
    "for x in test_batch:\n",
    "    print(tokenizer.decode_ids(x.tolist()), \"\\n\")\n"
   ]
  },
  {
   "cell_type": "code",
   "execution_count": 30,
   "metadata": {},
   "outputs": [
    {
     "name": "stdout",
     "output_type": "stream",
     "text": [
      "(8, 128, 32101)\n",
      "The was thathe was thewater that School that that  school were who ofleaders -- the school -- of the -- theon -- were the to be the to the school. the.if \" The  Irishman inth in the topth league football inranked The Theilliance is Repair founded first of manufacturermaker to be up  in China country States.. and in  - sedan,- s the recently the the  BS6 sedanX The The  is been for the government toas ing's' Force' be that independence  on is  measures to ensure the \n",
      "\n",
      ".ways. theggying and&  The’as not  I.S. President Secretary,ne Duncan has to thea meeting school in week.-  The’  first number the of are us aam and.  The ⁇  the last Games,,The , the University the,, the team of tempoas. thealap , slap  thes ,lapked  the    with thee   , The The the,, thea was to the. Louis,, Missouri he was his ande anda \n",
      "\n",
      "s&  I have ,signed the a  ,  TheI'ss   the to to- but I. said me. John Nixon, the that, who state- in the floor., \" The and in the that  was thethe controle down the  ' a gun\"\",  I The you  is by the ofjaabeth isania has her ofyseiailami is. who been to be thea'ding Worldedgearian. theless..  of the most'ss most important and of \n",
      "\n",
      "you  life and drinks support to those of people. are  the of the country American&sil Group' theless..- The The  for  Studies (IFC)) isaims a leading tanktank organisation the,, is , ands the income investment of will theer. the and be .% of than the the peak. 2010. .  increase increaseing of. The The’ ⁇ t forget''  the... group to group help..  ,  Thet has the have have to the with, the and   much to,  \n",
      "\n",
      "The of countriesAmericans have ed that the uses\"\",\"- which the that the majority is  and diverse of the members are not to.  The Minister have  to  thein to for theusa’'  has to from theduras to the. has over in the  capitalembassy in. The The Director is a significant challenge challenge. the country administration..  TheI the to be  with the whowhose  must to be  informedd and.   communication and have  a good position.. and be wells the the your \n",
      "\n",
      ".– andI said.,  The andnricks,born ⁇ ))   ball in a  of to the hits. the innings ⁇ inning 5 innings.. Mark Theiity,a, (-  formern  Minister of, was thehe \"I Romania of vote speech of the is  of the most reasonspillars of the democracy., TheWe Thepower ’ ⁇ t be  Ke would or .msa ocaine or - .  The was the  to  husband was in the homethyear-year \n",
      "\n",
      ",r, thea young inhe  The have I was  to be a good of aais the and and.  The Xs of the  people in the  attention and. and the than a year later,, the  Jewish of Israel  to being..  The of construction of in   to,  in theing countries. .. The Theos has that  to been  for,  The was said that is were  to be safe aboutif  The the time,, thes wass&s  ared. \n",
      "\n",
      "a  The, the is a  of the University Instituteailing Association (-  was the teamsbased  The was that the rancees was was   than as  \"ente ofpe. it  of  beena for the long..  The to the,he I & was was the, be closed of the most of the-year second-year selection. the  Tournament.. The. who are played the University will that ther.  The  of a the from the past of the that the will bere a newfall on on the \n",
      "\n"
     ]
    }
   ],
   "source": [
    "# output of the model??? \n",
    "logits = float32.apply({\"params\":params}, test_batch)\n",
    "print(logits.shape)\n",
    "probs = jax.nn.softmax(logits, axis=-1)\n",
    "token_ids = jnp.argmax(probs, axis=-1) \n",
    "\n",
    "for x in token_ids:\n",
    "    print(tokenizer.decode_ids(x.tolist()), \"\\n\")"
   ]
  },
  {
   "cell_type": "code",
   "execution_count": 32,
   "metadata": {},
   "outputs": [],
   "source": [
    "from datasets import load_dataset\n",
    "\n",
    "testing = load_dataset(\"stas/c4-en-10k\")"
   ]
  }
 ],
 "metadata": {
  "kernelspec": {
   "display_name": "nanodo",
   "language": "python",
   "name": "python3"
  },
  "language_info": {
   "codemirror_mode": {
    "name": "ipython",
    "version": 3
   },
   "file_extension": ".py",
   "mimetype": "text/x-python",
   "name": "python",
   "nbconvert_exporter": "python",
   "pygments_lexer": "ipython3",
   "version": "3.11.11"
  }
 },
 "nbformat": 4,
 "nbformat_minor": 2
}
